{
 "cells": [
  {
   "cell_type": "code",
   "execution_count": 78,
   "metadata": {},
   "outputs": [],
   "source": [
    "import torch\n",
    "\n",
    "import unicodedata\n",
    "import string\n",
    "import os\n",
    "import time\n",
    "import random \n",
    "import numpy as np\n",
    "import matplotlib.pyplot as plt\n",
    "from tqdm import tqdm\n",
    "\n",
    "from torch.utils.data import Dataset\n",
    "from io import open\n",
    "\n",
    "import torch.nn as nn\n",
    "import torch.nn.functional as F\n",
    "\n"
   ]
  },
  {
   "cell_type": "markdown",
   "metadata": {},
   "source": [
    "CharRNN"
   ]
  },
  {
   "cell_type": "code",
   "execution_count": 8,
   "metadata": {},
   "outputs": [
    {
     "name": "stdout",
     "output_type": "stream",
     "text": [
      "Device used cuda:0 with name NVIDIA GeForce RTX 3050 Laptop GPU\n"
     ]
    }
   ],
   "source": [
    "device=torch.device(\"cuda:0\" if torch.cuda.is_available() else \"cpu\")\n",
    "torch.set_default_device(device)\n",
    "print(f'Device used {torch.get_default_device()} with name {torch.cuda.get_device_name(device)}')\n",
    "\n"
   ]
  },
  {
   "cell_type": "markdown",
   "metadata": {},
   "source": [
    "### Data Preprocessing"
   ]
  },
  {
   "cell_type": "markdown",
   "metadata": {},
   "source": [
    "converting unicode to ascii to simplify the RNN input layers. \n",
    "ASCII: encodes 128 english characters in the form of numbers\n",
    "UNICODE: encodes 150+ modern and historic scripts along with emojis\n",
    "unicode encodes more characters than ascii, so ascii can be viewed as a subset of unicode."
   ]
  },
  {
   "cell_type": "code",
   "execution_count": 19,
   "metadata": {},
   "outputs": [
    {
     "name": "stdout",
     "output_type": "stream",
     "text": [
      "converting 'Kožušček' to Kozuscek\n"
     ]
    }
   ],
   "source": [
    "allowed_chars=string.ascii_letters + \" .,;'\"\n",
    "\n",
    "def unicodeToAscii(s):\n",
    "    return ''.join(\n",
    "        c for c in unicodedata.normalize('NFD', s)\n",
    "        if unicodedata.category(c) != 'Mn'\n",
    "        and c in allowed_chars\n",
    "    )\n",
    "    \n",
    "print (f\"converting 'Kožušček' to {unicodeToAscii('Kožušček')}\")"
   ]
  },
  {
   "cell_type": "code",
   "execution_count": 24,
   "metadata": {},
   "outputs": [
    {
     "name": "stdout",
     "output_type": "stream",
     "text": [
      "'Ahn':tensor([[[0., 0., 0., 0., 0., 0., 0., 0., 0., 0., 0., 0., 0., 0., 0., 0., 0.,\n",
      "          0., 0., 0., 0., 0., 0., 0., 0., 0., 1., 0., 0., 0., 0., 0., 0., 0.,\n",
      "          0., 0., 0., 0., 0., 0., 0., 0., 0., 0., 0., 0., 0., 0., 0., 0., 0.,\n",
      "          0., 0., 0., 0., 0., 0.]],\n",
      "\n",
      "        [[0., 0., 0., 0., 0., 0., 0., 1., 0., 0., 0., 0., 0., 0., 0., 0., 0.,\n",
      "          0., 0., 0., 0., 0., 0., 0., 0., 0., 0., 0., 0., 0., 0., 0., 0., 0.,\n",
      "          0., 0., 0., 0., 0., 0., 0., 0., 0., 0., 0., 0., 0., 0., 0., 0., 0.,\n",
      "          0., 0., 0., 0., 0., 0.]],\n",
      "\n",
      "        [[0., 0., 0., 0., 0., 0., 0., 0., 0., 0., 0., 0., 0., 1., 0., 0., 0.,\n",
      "          0., 0., 0., 0., 0., 0., 0., 0., 0., 0., 0., 0., 0., 0., 0., 0., 0.,\n",
      "          0., 0., 0., 0., 0., 0., 0., 0., 0., 0., 0., 0., 0., 0., 0., 0., 0.,\n",
      "          0., 0., 0., 0., 0., 0.]]], device='cuda:0')\n",
      "torch.Size([3, 1, 57])\n"
     ]
    }
   ],
   "source": [
    "# finding index of the letter in the allowed_chars\n",
    "def letterToIndex(letter): \n",
    "    return allowed_chars.find(letter)\n",
    "\n",
    "def wordToTensor(word):\n",
    "    tensor=torch.zeros(len(word),1,len(allowed_chars))\n",
    "    for idx,letter in enumerate(word):\n",
    "        tensor[idx][0][letterToIndex(letter)]=1\n",
    "    return tensor\n",
    "\n",
    "\n",
    "print (f\"'Ahn':{wordToTensor('Ahn')}\")\n",
    "\n",
    "# sequence length,batch size, number of characters\n",
    "print((wordToTensor('Ahn')).shape) \n",
    "#here batch size shows the number of words being processed at a time"
   ]
  },
  {
   "cell_type": "code",
   "execution_count": 34,
   "metadata": {},
   "outputs": [],
   "source": [
    "class NamesDataset(Dataset):\n",
    "    \n",
    "    def __init__(self,data_path):\n",
    "        self.data_path=data_path\n",
    "        labels_set=set()\n",
    "        \n",
    "        self.data=[]\n",
    "        self.data_tensors=[]\n",
    "        self.labels=[]\n",
    "        self.labels_tensors=[]\n",
    "        \n",
    "        for filename in os.listdir(data_path):\n",
    "           if filename.endswith('.txt'):\n",
    "               label=os.path.splitext(filename)[0]\n",
    "               labels_set.add(label)\n",
    "              \n",
    "               with open(os.path.join(data_path,filename),encoding='utf-8') as file:\n",
    "                   lines=file.read().strip().split('\\n')\n",
    "                   \n",
    "                   for name in lines:\n",
    "                       self.data.append(name)\n",
    "                       self.data_tensors.append(wordToTensor(name))\n",
    "                       self.labels.append(label)\n",
    "            \n",
    "        self.labels_uniq = list(labels_set)\n",
    "        self.labels_tensors = [torch.tensor([self.labels_uniq.index(label)], dtype=torch.long) for label in self.labels]\n",
    "        \n",
    "        \n",
    "    def __len__(self):\n",
    "        return len(self.data)\n",
    "\n",
    "    def __getitem__(self, idx):\n",
    "        data_item = self.data[idx]\n",
    "        data_label = self.labels[idx]\n",
    "        data_tensor = self.data_tensors[idx]\n",
    "        label_tensor = self.labels_tensors[idx]\n",
    "\n",
    "        return label_tensor, data_tensor, data_label, data_item\n",
    "        \n",
    "        \n",
    "          \n",
    "               \n",
    "            \n",
    "            "
   ]
  },
  {
   "cell_type": "code",
   "execution_count": 37,
   "metadata": {},
   "outputs": [
    {
     "name": "stdout",
     "output_type": "stream",
     "text": [
      "loaded 20074 items of data\n",
      "Label tensor:tensor([14], device='cuda:0')\n",
      " Data tensor:tensor([[[0., 0., 0., 0., 0., 0., 0., 0., 0., 0., 0., 0., 0., 0., 0., 0., 0.,\n",
      "          0., 0., 0., 0., 0., 0., 0., 0., 0., 0., 0., 0., 0., 0., 0., 0., 0.,\n",
      "          0., 0., 1., 0., 0., 0., 0., 0., 0., 0., 0., 0., 0., 0., 0., 0., 0.,\n",
      "          0., 0., 0., 0., 0., 0.]],\n",
      "\n",
      "        [[0., 0., 0., 0., 0., 0., 0., 1., 0., 0., 0., 0., 0., 0., 0., 0., 0.,\n",
      "          0., 0., 0., 0., 0., 0., 0., 0., 0., 0., 0., 0., 0., 0., 0., 0., 0.,\n",
      "          0., 0., 0., 0., 0., 0., 0., 0., 0., 0., 0., 0., 0., 0., 0., 0., 0.,\n",
      "          0., 0., 0., 0., 0., 0.]],\n",
      "\n",
      "        [[0., 0., 0., 0., 0., 0., 0., 0., 0., 0., 0., 0., 0., 0., 1., 0., 0.,\n",
      "          0., 0., 0., 0., 0., 0., 0., 0., 0., 0., 0., 0., 0., 0., 0., 0., 0.,\n",
      "          0., 0., 0., 0., 0., 0., 0., 0., 0., 0., 0., 0., 0., 0., 0., 0., 0.,\n",
      "          0., 0., 0., 0., 0., 0.]],\n",
      "\n",
      "        [[0., 0., 0., 0., 0., 0., 0., 0., 0., 0., 0., 0., 0., 0., 0., 0., 0.,\n",
      "          0., 0., 0., 1., 0., 0., 0., 0., 0., 0., 0., 0., 0., 0., 0., 0., 0.,\n",
      "          0., 0., 0., 0., 0., 0., 0., 0., 0., 0., 0., 0., 0., 0., 0., 0., 0.,\n",
      "          0., 0., 0., 0., 0., 0.]],\n",
      "\n",
      "        [[0., 0., 0., 0., 0., 0., 0., 0., 0., 0., 0., 0., 0., 0., 0., 0., 0.,\n",
      "          1., 0., 0., 0., 0., 0., 0., 0., 0., 0., 0., 0., 0., 0., 0., 0., 0.,\n",
      "          0., 0., 0., 0., 0., 0., 0., 0., 0., 0., 0., 0., 0., 0., 0., 0., 0.,\n",
      "          0., 0., 0., 0., 0., 0.]],\n",
      "\n",
      "        [[0., 0., 0., 0., 0., 0., 0., 0., 0., 0., 0., 0., 0., 0., 0., 0., 0.,\n",
      "          0., 0., 0., 0., 0., 0., 0., 1., 0., 0., 0., 0., 0., 0., 0., 0., 0.,\n",
      "          0., 0., 0., 0., 0., 0., 0., 0., 0., 0., 0., 0., 0., 0., 0., 0., 0.,\n",
      "          0., 0., 0., 0., 0., 0.]]], device='cuda:0')\n",
      " Data label:Arabic\n",
      " Data item:Khoury\n"
     ]
    }
   ],
   "source": [
    "namesData=NamesDataset('C:/Users/Sania Serrao/Desktop/NLP/data/names')\n",
    "print(f\"loaded {len(namesData)} items of data\")\n",
    "label_tensor, data_tensor, data_label, data_item=namesData[0]\n",
    "print(f\"Label tensor:{label_tensor}\\n Data tensor:{data_tensor}\\n Data label:{data_label}\\n Data item:{data_item}\") "
   ]
  },
  {
   "cell_type": "code",
   "execution_count": 39,
   "metadata": {},
   "outputs": [
    {
     "name": "stdout",
     "output_type": "stream",
     "text": [
      "train examples = 16060, validation examples = 4014\n"
     ]
    }
   ],
   "source": [
    "train_set, test_set = torch.utils.data.random_split(namesData, [.80, .20], generator=torch.Generator(device=device).manual_seed(2024))\n",
    "print(f\"train examples = {len(train_set)}, validation examples = {len(test_set)}\")"
   ]
  },
  {
   "cell_type": "markdown",
   "metadata": {},
   "source": [
    "Network Creation\n"
   ]
  },
  {
   "cell_type": "code",
   "execution_count": 40,
   "metadata": {},
   "outputs": [],
   "source": [
    "class CharRNN(nn.Module):\n",
    "    def __init__(self,input_size,hiddensize,output_size):\n",
    "        super(CharRNN,self).__init__()\n",
    "        \n",
    "        self.rnn=nn.RNN(input_size,hiddensize) #i2h\n",
    "        self.h2o=nn.Linear(hiddensize,output_size)\n",
    "        self.softmax=nn.LogSoftmax(dim=1)\n",
    "        \n",
    "    def forward(self, line_tensor):\n",
    "        rnn_out, hidden = self.rnn(line_tensor)\n",
    "        output = self.h2o(hidden[0])\n",
    "        output = self.softmax(output)\n",
    "\n",
    "        return output"
   ]
  },
  {
   "cell_type": "markdown",
   "metadata": {},
   "source": [
    "network architecture has been defined as\n",
    "1) nn.RNN layer that takes the input as one-hot encoded name tensors and output to hidden layer with 128 nodes\n",
    "2) nn.Linear a FC that maps hidden staate to output space with 18 nodes\n",
    "3) nn.LogSoftMax converts the output into log probabilites for each class"
   ]
  },
  {
   "cell_type": "code",
   "execution_count": 42,
   "metadata": {},
   "outputs": [
    {
     "name": "stdout",
     "output_type": "stream",
     "text": [
      "CharRNN(\n",
      "  (rnn): RNN(57, 128)\n",
      "  (h2o): Linear(in_features=128, out_features=18, bias=True)\n",
      "  (softmax): LogSoftmax(dim=1)\n",
      ")\n"
     ]
    }
   ],
   "source": [
    "n_input=len(allowed_chars)\n",
    "n_hidden = 128\n",
    "n_output=len(namesData.labels_uniq)\n",
    "rnn = CharRNN(n_input, n_hidden, n_output)\n",
    "print(rnn)"
   ]
  },
  {
   "cell_type": "code",
   "execution_count": 68,
   "metadata": {},
   "outputs": [
    {
     "name": "stdout",
     "output_type": "stream",
     "text": [
      "tensor([-2.8854, -2.7447, -2.8053, -3.0223, -2.8122, -2.8219, -2.8752, -2.9487,\n",
      "        -2.9157, -2.8814, -2.9045, -2.8606, -2.9095, -2.8725, -2.9013, -3.0011,\n",
      "        -3.0882, -2.8338], device='cuda:0', grad_fn=<SelectBackward0>)\n",
      "('Portuguese', 1)\n"
     ]
    }
   ],
   "source": [
    "#defining a hrlper function to derive the text label for most probable class  from output tensor\n",
    "def label_from_output(output, labels):\n",
    "    _, top_index = torch.max(output, dim=1)\n",
    "    label_index = top_index.item()\n",
    "    predicted_label = labels[label_index]\n",
    "    return predicted_label, label_index\n",
    "\n",
    "input = wordToTensor('Albert')\n",
    "output = rnn(input)\n",
    "print(output[0])\n",
    "print(label_from_output(output, namesData.labels_uniq))\n"
   ]
  },
  {
   "cell_type": "markdown",
   "metadata": {},
   "source": [
    " Model traning and Evaluation"
   ]
  },
  {
   "cell_type": "code",
   "execution_count": 75,
   "metadata": {},
   "outputs": [],
   "source": [
    "def train(\n",
    "    rnn, train_data, n_epoch=10, n_batch_size=64, report_every=50, lr=0.2, criterion=nn.NLLLoss()\n",
    "):\n",
    "    all_losses = []\n",
    "    rnn.train()\n",
    "    optimizer = torch.optim.SGD(rnn.parameters(), lr=lr)\n",
    "\n",
    "    print(f\"Training on dataset with n = {len(train_data)}\")\n",
    "\n",
    "    for epoch in range(1, n_epoch + 1):\n",
    "        rnn.zero_grad()\n",
    "        batches = list(range(len(train_data)))\n",
    "        random.shuffle(batches)\n",
    "        batches = np.array_split(batches, len(batches) // n_batch_size)\n",
    "\n",
    "      \n",
    "        epoch_loss = 0\n",
    "        with tqdm(batches, desc=f\"Epoch {epoch}/{n_epoch}\", unit=\"batch\") as batch_bar:\n",
    "            for batch in batch_bar:\n",
    "                batch_loss = 0\n",
    "\n",
    "               \n",
    "                for i in batch:\n",
    "                    label_tensor, text_tensor, label, text = train_data[i]\n",
    "                    output = rnn(text_tensor)\n",
    "                    loss = criterion(output, label_tensor)\n",
    "                    batch_loss += loss\n",
    "\n",
    "                \n",
    "                batch_loss.backward()\n",
    "                nn.utils.clip_grad_norm_(rnn.parameters(), 3)\n",
    "                optimizer.step()\n",
    "                optimizer.zero_grad()\n",
    "\n",
    "                \n",
    "                epoch_loss += batch_loss.item() / len(batch)\n",
    "                batch_bar.set_postfix(batch_loss=batch_loss.item() / len(batch))\n",
    "\n",
    "       \n",
    "        avg_epoch_loss = epoch_loss / len(batches)\n",
    "        all_losses.append(avg_epoch_loss)\n",
    "        current_loss = 0\n",
    "\n",
    "        if epoch % report_every == 0:\n",
    "            print(f\"Epoch {epoch} ({epoch / n_epoch:.0%}): Average loss = {avg_epoch_loss:.4f}\")\n",
    "\n",
    "    return all_losses\n"
   ]
  },
  {
   "cell_type": "code",
   "execution_count": 76,
   "metadata": {},
   "outputs": [
    {
     "name": "stdout",
     "output_type": "stream",
     "text": [
      "Training on dataset with n = 16060\n"
     ]
    },
    {
     "name": "stderr",
     "output_type": "stream",
     "text": [
      "Epoch 1/27:   0%|          | 0/250 [00:00<?, ?batch/s]"
     ]
    },
    {
     "name": "stderr",
     "output_type": "stream",
     "text": [
      "Epoch 1/27: 100%|██████████| 250/250 [00:28<00:00,  8.64batch/s, batch_loss=1.17] \n",
      "Epoch 2/27: 100%|██████████| 250/250 [00:30<00:00,  8.12batch/s, batch_loss=0.829]\n",
      "Epoch 3/27: 100%|██████████| 250/250 [00:31<00:00,  7.91batch/s, batch_loss=0.656]\n",
      "Epoch 4/27: 100%|██████████| 250/250 [00:30<00:00,  8.22batch/s, batch_loss=0.76] \n",
      "Epoch 5/27: 100%|██████████| 250/250 [00:32<00:00,  7.69batch/s, batch_loss=0.667]\n"
     ]
    },
    {
     "name": "stdout",
     "output_type": "stream",
     "text": [
      "Epoch 5 (19%): Average loss = 0.7058\n"
     ]
    },
    {
     "name": "stderr",
     "output_type": "stream",
     "text": [
      "Epoch 6/27: 100%|██████████| 250/250 [00:40<00:00,  6.11batch/s, batch_loss=0.891]\n",
      "Epoch 7/27: 100%|██████████| 250/250 [00:51<00:00,  4.82batch/s, batch_loss=0.519]\n",
      "Epoch 8/27: 100%|██████████| 250/250 [00:29<00:00,  8.36batch/s, batch_loss=1]    \n",
      "Epoch 9/27: 100%|██████████| 250/250 [00:28<00:00,  8.71batch/s, batch_loss=0.492]\n",
      "Epoch 10/27: 100%|██████████| 250/250 [00:27<00:00,  9.01batch/s, batch_loss=0.505]\n"
     ]
    },
    {
     "name": "stdout",
     "output_type": "stream",
     "text": [
      "Epoch 10 (37%): Average loss = 0.5891\n"
     ]
    },
    {
     "name": "stderr",
     "output_type": "stream",
     "text": [
      "Epoch 11/27: 100%|██████████| 250/250 [00:27<00:00,  9.15batch/s, batch_loss=0.313]\n",
      "Epoch 12/27: 100%|██████████| 250/250 [00:31<00:00,  7.98batch/s, batch_loss=0.541]\n",
      "Epoch 13/27: 100%|██████████| 250/250 [00:43<00:00,  5.69batch/s, batch_loss=0.607]\n",
      "Epoch 14/27: 100%|██████████| 250/250 [00:47<00:00,  5.24batch/s, batch_loss=0.55] \n",
      "Epoch 15/27: 100%|██████████| 250/250 [00:47<00:00,  5.29batch/s, batch_loss=0.617]\n"
     ]
    },
    {
     "name": "stdout",
     "output_type": "stream",
     "text": [
      "Epoch 15 (56%): Average loss = 0.5012\n"
     ]
    },
    {
     "name": "stderr",
     "output_type": "stream",
     "text": [
      "Epoch 16/27: 100%|██████████| 250/250 [00:27<00:00,  9.03batch/s, batch_loss=0.525]\n",
      "Epoch 17/27: 100%|██████████| 250/250 [00:30<00:00,  8.32batch/s, batch_loss=0.471]\n",
      "Epoch 18/27: 100%|██████████| 250/250 [00:25<00:00,  9.87batch/s, batch_loss=0.633]\n",
      "Epoch 19/27: 100%|██████████| 250/250 [00:26<00:00,  9.31batch/s, batch_loss=0.677]\n",
      "Epoch 20/27: 100%|██████████| 250/250 [00:27<00:00,  9.10batch/s, batch_loss=0.251]\n"
     ]
    },
    {
     "name": "stdout",
     "output_type": "stream",
     "text": [
      "Epoch 20 (74%): Average loss = 0.4366\n"
     ]
    },
    {
     "name": "stderr",
     "output_type": "stream",
     "text": [
      "Epoch 21/27: 100%|██████████| 250/250 [00:30<00:00,  8.18batch/s, batch_loss=0.435]\n",
      "Epoch 22/27: 100%|██████████| 250/250 [00:30<00:00,  8.27batch/s, batch_loss=0.375]\n",
      "Epoch 23/27: 100%|██████████| 250/250 [00:36<00:00,  6.84batch/s, batch_loss=0.625]\n",
      "Epoch 24/27: 100%|██████████| 250/250 [00:30<00:00,  8.30batch/s, batch_loss=0.261]\n",
      "Epoch 25/27: 100%|██████████| 250/250 [00:29<00:00,  8.60batch/s, batch_loss=0.539]\n"
     ]
    },
    {
     "name": "stdout",
     "output_type": "stream",
     "text": [
      "Epoch 25 (93%): Average loss = 0.3902\n"
     ]
    },
    {
     "name": "stderr",
     "output_type": "stream",
     "text": [
      "Epoch 26/27: 100%|██████████| 250/250 [00:29<00:00,  8.60batch/s, batch_loss=0.532]\n",
      "Epoch 27/27: 100%|██████████| 250/250 [00:30<00:00,  8.21batch/s, batch_loss=0.513]\n"
     ]
    }
   ],
   "source": [
    "all_losses = train(rnn, train_set, n_epoch=27, lr=0.15, report_every=5)\n"
   ]
  },
  {
   "cell_type": "code",
   "execution_count": 79,
   "metadata": {},
   "outputs": [
    {
     "data": {
      "image/png": "[encoded data removed]",
      "text/plain": [
       "<Figure size 640x480 with 1 Axes>"
      ]
     },
     "metadata": {},
     "output_type": "display_data"
    }
   ],
   "source": [
    "plt.figure()\n",
    "plt.plot(all_losses)\n",
    "plt.show()"
   ]
  },
  {
   "cell_type": "code",
   "execution_count": 80,
   "metadata": {},
   "outputs": [
    {
     "data": {
      "image/png": "[encoded data removed]",
      "text/plain": [
       "<Figure size 640x480 with 2 Axes>"
      ]
     },
     "metadata": {},
     "output_type": "display_data"
    }
   ],
   "source": [
    "def evaluate(rnn, testing_data, classes):\n",
    "    confusion = torch.zeros(len(classes), len(classes))\n",
    "\n",
    "    rnn.eval() \n",
    "    with torch.no_grad():\n",
    "        for i in range(len(testing_data)):\n",
    "            (label_tensor, text_tensor, label, text) = testing_data[i]\n",
    "            output = rnn(text_tensor)\n",
    "            guess, guess_i = label_from_output(output, classes)\n",
    "            label_i = classes.index(label)\n",
    "            confusion[label_i][guess_i] += 1\n",
    "\n",
    "\n",
    "    for i in range(len(classes)):\n",
    "        denom = confusion[i].sum()\n",
    "        if denom > 0:\n",
    "            confusion[i] = confusion[i] / denom\n",
    "\n",
    "\n",
    "    fig = plt.figure()\n",
    "    ax = fig.add_subplot(111)\n",
    "    cax = ax.matshow(confusion.cpu().numpy()) #numpy uses cpu here so we need to use a cpu version\n",
    "    fig.colorbar(cax)\n",
    "\n",
    "    ax.set_xticks(np.arange(len(classes)), labels=classes, rotation=90)\n",
    "    ax.set_yticks(np.arange(len(classes)), labels=classes)\n",
    "\n",
    "    plt.show()\n",
    "\n",
    "\n",
    "\n",
    "evaluate(rnn, test_set, classes=namesData.labels_uniq)"
   ]
  }
 ],
 "metadata": {
  "kernelspec": {
   "display_name": "Python 3",
   "language": "python",
   "name": "python3"
  },
  "language_info": {
   "codemirror_mode": {
    "name": "ipython",
    "version": 3
   },
   "file_extension": ".py",
   "mimetype": "text/x-python",
   "name": "python",
   "nbconvert_exporter": "python",
   "pygments_lexer": "ipython3",
   "version": "3.10.11"
  }
 },
 "nbformat": 4,
 "nbformat_minor": 2
}
